{
  "nbformat": 4,
  "nbformat_minor": 0,
  "metadata": {
    "colab": {
      "name": "Capstone Project :1. Hotel Booking Analysis.ipynb",
      "provenance": [],
      "collapsed_sections": [],
      "mount_file_id": "1Gp0_Pdv5Fbw4XxeTQKywN6550J_22_IQ",
      "authorship_tag": "ABX9TyPP44K4GANpW1nkc0QOKpEP",
      "include_colab_link": true
    },
    "kernelspec": {
      "display_name": "Python 3",
      "name": "python3"
    },
    "language_info": {
      "name": "python"
    }
  },
  "cells": [
    {
      "cell_type": "markdown",
      "metadata": {
        "id": "view-in-github",
        "colab_type": "text"
      },
      "source": [
        "<a href=\"https://colab.research.google.com/github/Deven876/Capstone-1-Hotel-Booking-Analysis/blob/main/Capstone_Project_1_Hotel_Booking_Analysis.ipynb\" target=\"_parent\"><img src=\"https://colab.research.google.com/assets/colab-badge.svg\" alt=\"Open In Colab\"/></a>"
      ]
    },
    {
      "cell_type": "markdown",
      "metadata": {
        "id": "gkO16mGIyH_5"
      },
      "source": [
        "![cp1.jpg](data:image/jpeg;base64,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)\n",
        "## **Problem Statement**"
      ]
    },
    {
      "cell_type": "markdown",
      "metadata": {
        "id": "-3r37cJAFQ_8"
      },
      "source": [
        "Have you ever wondered when the best time of year to book a hotel room is? Or the optimal length of stay in order to get the best daily rate? What if you wanted to predict whether or not a hotel was likely to receive a disproportionately high number of special requests? This hotel booking dataset can help you explore those questions!\n",
        "\n",
        "This data set contains booking information for a city hotel and a resort hotel, and includes information such as when the booking was made, length of stay, the number of adults, children, and/or babies, and the number of available parking spaces, among other things. All personally identifying information has been removed from the data. </b>\n",
        " ### **Explore and analyze the data to discover important factors that govern the bookings. </b>**"
      ]
    },
    {
      "cell_type": "markdown",
      "metadata": {
        "id": "1xgdrtIfFg3E"
      },
      "source": [
        "## **Dataset Information**"
      ]
    },
    {
      "cell_type": "markdown",
      "metadata": {
        "id": "R_jPv_kJF7J-"
      },
      "source": [
        "- **Hotel**\n",
        " * H1: Resort hotel\n",
        " * H2: City hotel\n",
        "- **is_canceled**\n",
        " * 1: Canceled \n",
        " * 0: Not canceled\n",
        "- **lead_time**\n",
        " * No of days that elapsed between entering date of booking into property management system and arrival date\n",
        "- **arrival_date_year**\n",
        " * Year of arrival date (2015-2017)\n",
        "- **arrival_date_month**\n",
        " * Month of arrival date (Jan - Dec)\n",
        "- **arrival_date_week_numberr**\n",
        " * Week number of year for arrival date (1-53)\n",
        "- **arrival_date_day_of_month**\n",
        " * Day of arrival date\n",
        "- **stays_in_weekend_nights**\n",
        " * No of weekend nights (Sat/Sun) the guest stayed or booked to stay at the hotel\n",
        "- **stays_in_week_nights**\n",
        " * No of week nights (Mon - Fri) the guest stayed or booked to stay at the hotel\n",
        "- **Adults** \n",
        "- **Children**\n",
        "- **Babies**\n",
        "- **meal** \n",
        " * Type of meal booked. Undefined/SC – no meal package; BB – Bed & Breakfast; HB – Half board (breakfast and one other meal – usually dinner); FB – Full board (breakfast, lunch and dinner)\n",
        "- **country**\n",
        "- **market_segment** (a group of people who share one or more common characteristics, lumped together for marketing purposes)\n",
        " * TA: Travel agents\n",
        " * TO: Tour operators \n",
        "- **distribution_channel** (A distribution channel is a chain of businesses or intermediaries through which a good or service passes until it reaches the final buyer or the end consumer)\n",
        " * TA: Travel agents\n",
        " * TO: Tour operators\n",
        "- **is_repeated_guest** (value indicating if the booking name was from repeated guest)\n",
        " * 1: Yes\n",
        " * 0: No\n",
        "- **previous_cancellations**\n",
        " * Number of previous bookings that were cancelled by the customer prior to the current booking\n",
        "- **previous_bookings_not_canceled**\n",
        " * Number of previous bookings not cancelled by the customer prior to the current booking\n",
        "- **reserved_room_type**\n",
        " * Code of room type reserved. Code is presented instead of designation for anonymity reasons.\n",
        "- **assigned_room_type**\n",
        " * Code for the type of room assigned to the booking. Sometimes the assigned room type differs from the reserved room type due to hotel operation reasons (e.g. overbooking) or by customer request. Code is presented instead of designation for anonymity reasons.\n",
        "- **booking_changes**\n",
        " * Number of changes/amendments made to the booking from the moment the booking was entered on the PMS until the moment of check-in or cancellation\n",
        "- **deposit_type**\n",
        " * Indication on if the customer made a deposit to guarantee the booking. This variable can assume three categories: No Deposit – no deposit was made; Non Refund – a deposit was made in the value of the total stay cost; Refundable – a deposit was made with a value under the total cost of stay.\n",
        "- **agent**\n",
        " * ID of the travel agency that made the booking \n",
        "- **company**\n",
        " * ID of the company/entity that made the booking or responsible for paying the booking. ID is presented instead of designation for anonymity reasons\n",
        "- **day_in_waiting_list**\n",
        " * Number of days the booking was in the waiting list before it was confirmed to the customer\n",
        "- **customer_type**\n",
        " * Contract - when the booking has an allotment or other type of contract associated to it; \n",
        " * Group – when the booking is associated to a group; \n",
        " * Transient – when the booking is not part of a group or contract, and is not associated to other transient booking; \n",
        " * Transient-party – when the booking is transient, but is associated to at least other transient booking\n",
        "- **adr (average daily rate)**\n",
        " * average daily rate = $ \\frac{Sum Of All Lodging Transaction}{Total Number Of Staying Night}$\n",
        "- **required_car_parking_spaces**\n",
        " * Number of car parking spaces required by the customer \n",
        "- **total_of_special_requests**\n",
        " * Number of special requests made by the customer (e.g. twin bed or high floor)\n",
        "- **reservation_status**\n",
        " * Canceled – booking was canceled by the customer; \n",
        " * Check-Out – customer has checked in but already departed; \n",
        " * No-Show – customer did not check-in and did inform the hotel of the reason why\n",
        "- **reservation_status_date**\n",
        " * Date at which the last status was set. This variable can be used in conjunction with the ReservationStatus to understand when was the booking canceled or when did the customer checked-out of the hotel\n"
      ]
    },
    {
      "cell_type": "markdown",
      "metadata": {
        "id": "riIMvaGTGM71"
      },
      "source": [
        "## **Importing**"
      ]
    },
    {
      "cell_type": "code",
      "metadata": {
        "id": "WgzjFonvGRYy"
      },
      "source": [
        "# importing required packages\n",
        "import pandas as pd\n",
        "import numpy as np\n",
        "import matplotlib.pyplot as plt \n",
        "import seaborn as sns"
      ],
      "execution_count": 1,
      "outputs": []
    },
    {
      "cell_type": "code",
      "metadata": {
        "id": "y7kfZes6GipI"
      },
      "source": [
        "# importing dataset\n",
        "file='/content/drive/MyDrive/Copy of Hotel Bookings.csv'\n",
        "data=pd.read_csv(file)"
      ],
      "execution_count": 2,
      "outputs": []
    },
    {
      "cell_type": "markdown",
      "metadata": {
        "id": "JzoCOUhnHFfT"
      },
      "source": [
        "## **Dataset Inspection**"
      ]
    },
    {
      "cell_type": "code",
      "metadata": {
        "colab": {
          "base_uri": "https://localhost:8080/",
          "height": 312
        },
        "id": "GofrXcFWHqkX",
        "outputId": "c3ae618c-c620-4bf2-da0f-f88d8d014b42"
      },
      "source": [
        "# First look \n",
        "data.head()"
      ],
      "execution_count": 6,
      "outputs": [
        {
          "output_type": "execute_result",
          "data": {
            "text/html": [
              "<div>\n",
              "<style scoped>\n",
              "    .dataframe tbody tr th:only-of-type {\n",
              "        vertical-align: middle;\n",
              "    }\n",
              "\n",
              "    .dataframe tbody tr th {\n",
              "        vertical-align: top;\n",
              "    }\n",
              "\n",
              "    .dataframe thead th {\n",
              "        text-align: right;\n",
              "    }\n",
              "</style>\n",
              "<table border=\"1\" class=\"dataframe\">\n",
              "  <thead>\n",
              "    <tr style=\"text-align: right;\">\n",
              "      <th></th>\n",
              "      <th>hotel</th>\n",
              "      <th>is_canceled</th>\n",
              "      <th>lead_time</th>\n",
              "      <th>arrival_date_year</th>\n",
              "      <th>arrival_date_month</th>\n",
              "      <th>arrival_date_week_number</th>\n",
              "      <th>arrival_date_day_of_month</th>\n",
              "      <th>stays_in_weekend_nights</th>\n",
              "      <th>stays_in_week_nights</th>\n",
              "      <th>adults</th>\n",
              "      <th>children</th>\n",
              "      <th>babies</th>\n",
              "      <th>meal</th>\n",
              "      <th>country</th>\n",
              "      <th>market_segment</th>\n",
              "      <th>distribution_channel</th>\n",
              "      <th>is_repeated_guest</th>\n",
              "      <th>previous_cancellations</th>\n",
              "      <th>previous_bookings_not_canceled</th>\n",
              "      <th>reserved_room_type</th>\n",
              "      <th>assigned_room_type</th>\n",
              "      <th>booking_changes</th>\n",
              "      <th>deposit_type</th>\n",
              "      <th>agent</th>\n",
              "      <th>company</th>\n",
              "      <th>days_in_waiting_list</th>\n",
              "      <th>customer_type</th>\n",
              "      <th>adr</th>\n",
              "      <th>required_car_parking_spaces</th>\n",
              "      <th>total_of_special_requests</th>\n",
              "      <th>reservation_status</th>\n",
              "      <th>reservation_status_date</th>\n",
              "    </tr>\n",
              "  </thead>\n",
              "  <tbody>\n",
              "    <tr>\n",
              "      <th>0</th>\n",
              "      <td>Resort Hotel</td>\n",
              "      <td>0</td>\n",
              "      <td>342</td>\n",
              "      <td>2015</td>\n",
              "      <td>July</td>\n",
              "      <td>27</td>\n",
              "      <td>1</td>\n",
              "      <td>0</td>\n",
              "      <td>0</td>\n",
              "      <td>2</td>\n",
              "      <td>0.0</td>\n",
              "      <td>0</td>\n",
              "      <td>BB</td>\n",
              "      <td>PRT</td>\n",
              "      <td>Direct</td>\n",
              "      <td>Direct</td>\n",
              "      <td>0</td>\n",
              "      <td>0</td>\n",
              "      <td>0</td>\n",
              "      <td>C</td>\n",
              "      <td>C</td>\n",
              "      <td>3</td>\n",
              "      <td>No Deposit</td>\n",
              "      <td>NaN</td>\n",
              "      <td>NaN</td>\n",
              "      <td>0</td>\n",
              "      <td>Transient</td>\n",
              "      <td>0.0</td>\n",
              "      <td>0</td>\n",
              "      <td>0</td>\n",
              "      <td>Check-Out</td>\n",
              "      <td>2015-07-01</td>\n",
              "    </tr>\n",
              "    <tr>\n",
              "      <th>1</th>\n",
              "      <td>Resort Hotel</td>\n",
              "      <td>0</td>\n",
              "      <td>737</td>\n",
              "      <td>2015</td>\n",
              "      <td>July</td>\n",
              "      <td>27</td>\n",
              "      <td>1</td>\n",
              "      <td>0</td>\n",
              "      <td>0</td>\n",
              "      <td>2</td>\n",
              "      <td>0.0</td>\n",
              "      <td>0</td>\n",
              "      <td>BB</td>\n",
              "      <td>PRT</td>\n",
              "      <td>Direct</td>\n",
              "      <td>Direct</td>\n",
              "      <td>0</td>\n",
              "      <td>0</td>\n",
              "      <td>0</td>\n",
              "      <td>C</td>\n",
              "      <td>C</td>\n",
              "      <td>4</td>\n",
              "      <td>No Deposit</td>\n",
              "      <td>NaN</td>\n",
              "      <td>NaN</td>\n",
              "      <td>0</td>\n",
              "      <td>Transient</td>\n",
              "      <td>0.0</td>\n",
              "      <td>0</td>\n",
              "      <td>0</td>\n",
              "      <td>Check-Out</td>\n",
              "      <td>2015-07-01</td>\n",
              "    </tr>\n",
              "    <tr>\n",
              "      <th>2</th>\n",
              "      <td>Resort Hotel</td>\n",
              "      <td>0</td>\n",
              "      <td>7</td>\n",
              "      <td>2015</td>\n",
              "      <td>July</td>\n",
              "      <td>27</td>\n",
              "      <td>1</td>\n",
              "      <td>0</td>\n",
              "      <td>1</td>\n",
              "      <td>1</td>\n",
              "      <td>0.0</td>\n",
              "      <td>0</td>\n",
              "      <td>BB</td>\n",
              "      <td>GBR</td>\n",
              "      <td>Direct</td>\n",
              "      <td>Direct</td>\n",
              "      <td>0</td>\n",
              "      <td>0</td>\n",
              "      <td>0</td>\n",
              "      <td>A</td>\n",
              "      <td>C</td>\n",
              "      <td>0</td>\n",
              "      <td>No Deposit</td>\n",
              "      <td>NaN</td>\n",
              "      <td>NaN</td>\n",
              "      <td>0</td>\n",
              "      <td>Transient</td>\n",
              "      <td>75.0</td>\n",
              "      <td>0</td>\n",
              "      <td>0</td>\n",
              "      <td>Check-Out</td>\n",
              "      <td>2015-07-02</td>\n",
              "    </tr>\n",
              "    <tr>\n",
              "      <th>3</th>\n",
              "      <td>Resort Hotel</td>\n",
              "      <td>0</td>\n",
              "      <td>13</td>\n",
              "      <td>2015</td>\n",
              "      <td>July</td>\n",
              "      <td>27</td>\n",
              "      <td>1</td>\n",
              "      <td>0</td>\n",
              "      <td>1</td>\n",
              "      <td>1</td>\n",
              "      <td>0.0</td>\n",
              "      <td>0</td>\n",
              "      <td>BB</td>\n",
              "      <td>GBR</td>\n",
              "      <td>Corporate</td>\n",
              "      <td>Corporate</td>\n",
              "      <td>0</td>\n",
              "      <td>0</td>\n",
              "      <td>0</td>\n",
              "      <td>A</td>\n",
              "      <td>A</td>\n",
              "      <td>0</td>\n",
              "      <td>No Deposit</td>\n",
              "      <td>304.0</td>\n",
              "      <td>NaN</td>\n",
              "      <td>0</td>\n",
              "      <td>Transient</td>\n",
              "      <td>75.0</td>\n",
              "      <td>0</td>\n",
              "      <td>0</td>\n",
              "      <td>Check-Out</td>\n",
              "      <td>2015-07-02</td>\n",
              "    </tr>\n",
              "    <tr>\n",
              "      <th>4</th>\n",
              "      <td>Resort Hotel</td>\n",
              "      <td>0</td>\n",
              "      <td>14</td>\n",
              "      <td>2015</td>\n",
              "      <td>July</td>\n",
              "      <td>27</td>\n",
              "      <td>1</td>\n",
              "      <td>0</td>\n",
              "      <td>2</td>\n",
              "      <td>2</td>\n",
              "      <td>0.0</td>\n",
              "      <td>0</td>\n",
              "      <td>BB</td>\n",
              "      <td>GBR</td>\n",
              "      <td>Online TA</td>\n",
              "      <td>TA/TO</td>\n",
              "      <td>0</td>\n",
              "      <td>0</td>\n",
              "      <td>0</td>\n",
              "      <td>A</td>\n",
              "      <td>A</td>\n",
              "      <td>0</td>\n",
              "      <td>No Deposit</td>\n",
              "      <td>240.0</td>\n",
              "      <td>NaN</td>\n",
              "      <td>0</td>\n",
              "      <td>Transient</td>\n",
              "      <td>98.0</td>\n",
              "      <td>0</td>\n",
              "      <td>1</td>\n",
              "      <td>Check-Out</td>\n",
              "      <td>2015-07-03</td>\n",
              "    </tr>\n",
              "  </tbody>\n",
              "</table>\n",
              "</div>"
            ],
            "text/plain": [
              "          hotel  is_canceled  ...  reservation_status  reservation_status_date\n",
              "0  Resort Hotel            0  ...           Check-Out               2015-07-01\n",
              "1  Resort Hotel            0  ...           Check-Out               2015-07-01\n",
              "2  Resort Hotel            0  ...           Check-Out               2015-07-02\n",
              "3  Resort Hotel            0  ...           Check-Out               2015-07-02\n",
              "4  Resort Hotel            0  ...           Check-Out               2015-07-03\n",
              "\n",
              "[5 rows x 32 columns]"
            ]
          },
          "metadata": {},
          "execution_count": 6
        }
      ]
    },
    {
      "cell_type": "code",
      "metadata": {
        "colab": {
          "base_uri": "https://localhost:8080/"
        },
        "id": "_5qkcU0TH_7I",
        "outputId": "a9310475-8dbc-4123-c079-d1b35b5e1dcc"
      },
      "source": [
        "# looking into shape of dataset\n",
        "data.shape\n",
        "shape=list(data.shape)\n",
        "print('number of rows:',shape[0])\n",
        "print('number of columns:',shape[1])"
      ],
      "execution_count": 8,
      "outputs": [
        {
          "output_type": "stream",
          "name": "stdout",
          "text": [
            "number of rows: 119390\n",
            "number of columns: 32\n"
          ]
        }
      ]
    },
    {
      "cell_type": "code",
      "metadata": {
        "colab": {
          "base_uri": "https://localhost:8080/"
        },
        "id": "7AdkZmO-Idfz",
        "outputId": "d147be2e-8dbc-4cee-8a74-125e844cbbcd"
      },
      "source": [
        "# looking into information(datatype,columns,null/non-null count)\n",
        "data.info()"
      ],
      "execution_count": 9,
      "outputs": [
        {
          "output_type": "stream",
          "name": "stdout",
          "text": [
            "<class 'pandas.core.frame.DataFrame'>\n",
            "RangeIndex: 119390 entries, 0 to 119389\n",
            "Data columns (total 32 columns):\n",
            " #   Column                          Non-Null Count   Dtype  \n",
            "---  ------                          --------------   -----  \n",
            " 0   hotel                           119390 non-null  object \n",
            " 1   is_canceled                     119390 non-null  int64  \n",
            " 2   lead_time                       119390 non-null  int64  \n",
            " 3   arrival_date_year               119390 non-null  int64  \n",
            " 4   arrival_date_month              119390 non-null  object \n",
            " 5   arrival_date_week_number        119390 non-null  int64  \n",
            " 6   arrival_date_day_of_month       119390 non-null  int64  \n",
            " 7   stays_in_weekend_nights         119390 non-null  int64  \n",
            " 8   stays_in_week_nights            119390 non-null  int64  \n",
            " 9   adults                          119390 non-null  int64  \n",
            " 10  children                        119386 non-null  float64\n",
            " 11  babies                          119390 non-null  int64  \n",
            " 12  meal                            119390 non-null  object \n",
            " 13  country                         118902 non-null  object \n",
            " 14  market_segment                  119390 non-null  object \n",
            " 15  distribution_channel            119390 non-null  object \n",
            " 16  is_repeated_guest               119390 non-null  int64  \n",
            " 17  previous_cancellations          119390 non-null  int64  \n",
            " 18  previous_bookings_not_canceled  119390 non-null  int64  \n",
            " 19  reserved_room_type              119390 non-null  object \n",
            " 20  assigned_room_type              119390 non-null  object \n",
            " 21  booking_changes                 119390 non-null  int64  \n",
            " 22  deposit_type                    119390 non-null  object \n",
            " 23  agent                           103050 non-null  float64\n",
            " 24  company                         6797 non-null    float64\n",
            " 25  days_in_waiting_list            119390 non-null  int64  \n",
            " 26  customer_type                   119390 non-null  object \n",
            " 27  adr                             119390 non-null  float64\n",
            " 28  required_car_parking_spaces     119390 non-null  int64  \n",
            " 29  total_of_special_requests       119390 non-null  int64  \n",
            " 30  reservation_status              119390 non-null  object \n",
            " 31  reservation_status_date         119390 non-null  object \n",
            "dtypes: float64(4), int64(16), object(12)\n",
            "memory usage: 29.1+ MB\n"
          ]
        }
      ]
    },
    {
      "cell_type": "code",
      "metadata": {
        "colab": {
          "base_uri": "https://localhost:8080/",
          "height": 430
        },
        "id": "RWTVlLKgJBOz",
        "outputId": "9f92f23c-4611-4131-bbb6-ccef8f3d8ee5"
      },
      "source": [
        "# looking into descriptive summary of dataset\n",
        "data.describe(include='all')"
      ],
      "execution_count": 11,
      "outputs": [
        {
          "output_type": "execute_result",
          "data": {
            "text/html": [
              "<div>\n",
              "<style scoped>\n",
              "    .dataframe tbody tr th:only-of-type {\n",
              "        vertical-align: middle;\n",
              "    }\n",
              "\n",
              "    .dataframe tbody tr th {\n",
              "        vertical-align: top;\n",
              "    }\n",
              "\n",
              "    .dataframe thead th {\n",
              "        text-align: right;\n",
              "    }\n",
              "</style>\n",
              "<table border=\"1\" class=\"dataframe\">\n",
              "  <thead>\n",
              "    <tr style=\"text-align: right;\">\n",
              "      <th></th>\n",
              "      <th>hotel</th>\n",
              "      <th>is_canceled</th>\n",
              "      <th>lead_time</th>\n",
              "      <th>arrival_date_year</th>\n",
              "      <th>arrival_date_month</th>\n",
              "      <th>arrival_date_week_number</th>\n",
              "      <th>arrival_date_day_of_month</th>\n",
              "      <th>stays_in_weekend_nights</th>\n",
              "      <th>stays_in_week_nights</th>\n",
              "      <th>adults</th>\n",
              "      <th>children</th>\n",
              "      <th>babies</th>\n",
              "      <th>meal</th>\n",
              "      <th>country</th>\n",
              "      <th>market_segment</th>\n",
              "      <th>distribution_channel</th>\n",
              "      <th>is_repeated_guest</th>\n",
              "      <th>previous_cancellations</th>\n",
              "      <th>previous_bookings_not_canceled</th>\n",
              "      <th>reserved_room_type</th>\n",
              "      <th>assigned_room_type</th>\n",
              "      <th>booking_changes</th>\n",
              "      <th>deposit_type</th>\n",
              "      <th>agent</th>\n",
              "      <th>company</th>\n",
              "      <th>days_in_waiting_list</th>\n",
              "      <th>customer_type</th>\n",
              "      <th>adr</th>\n",
              "      <th>required_car_parking_spaces</th>\n",
              "      <th>total_of_special_requests</th>\n",
              "      <th>reservation_status</th>\n",
              "      <th>reservation_status_date</th>\n",
              "    </tr>\n",
              "  </thead>\n",
              "  <tbody>\n",
              "    <tr>\n",
              "      <th>count</th>\n",
              "      <td>119390</td>\n",
              "      <td>119390.000000</td>\n",
              "      <td>119390.000000</td>\n",
              "      <td>119390.000000</td>\n",
              "      <td>119390</td>\n",
              "      <td>119390.000000</td>\n",
              "      <td>119390.000000</td>\n",
              "      <td>119390.000000</td>\n",
              "      <td>119390.000000</td>\n",
              "      <td>119390.000000</td>\n",
              "      <td>119386.000000</td>\n",
              "      <td>119390.000000</td>\n",
              "      <td>119390</td>\n",
              "      <td>118902</td>\n",
              "      <td>119390</td>\n",
              "      <td>119390</td>\n",
              "      <td>119390.000000</td>\n",
              "      <td>119390.000000</td>\n",
              "      <td>119390.000000</td>\n",
              "      <td>119390</td>\n",
              "      <td>119390</td>\n",
              "      <td>119390.000000</td>\n",
              "      <td>119390</td>\n",
              "      <td>103050.000000</td>\n",
              "      <td>6797.000000</td>\n",
              "      <td>119390.000000</td>\n",
              "      <td>119390</td>\n",
              "      <td>119390.000000</td>\n",
              "      <td>119390.000000</td>\n",
              "      <td>119390.000000</td>\n",
              "      <td>119390</td>\n",
              "      <td>119390</td>\n",
              "    </tr>\n",
              "    <tr>\n",
              "      <th>unique</th>\n",
              "      <td>2</td>\n",
              "      <td>NaN</td>\n",
              "      <td>NaN</td>\n",
              "      <td>NaN</td>\n",
              "      <td>12</td>\n",
              "      <td>NaN</td>\n",
              "      <td>NaN</td>\n",
              "      <td>NaN</td>\n",
              "      <td>NaN</td>\n",
              "      <td>NaN</td>\n",
              "      <td>NaN</td>\n",
              "      <td>NaN</td>\n",
              "      <td>5</td>\n",
              "      <td>177</td>\n",
              "      <td>8</td>\n",
              "      <td>5</td>\n",
              "      <td>NaN</td>\n",
              "      <td>NaN</td>\n",
              "      <td>NaN</td>\n",
              "      <td>10</td>\n",
              "      <td>12</td>\n",
              "      <td>NaN</td>\n",
              "      <td>3</td>\n",
              "      <td>NaN</td>\n",
              "      <td>NaN</td>\n",
              "      <td>NaN</td>\n",
              "      <td>4</td>\n",
              "      <td>NaN</td>\n",
              "      <td>NaN</td>\n",
              "      <td>NaN</td>\n",
              "      <td>3</td>\n",
              "      <td>926</td>\n",
              "    </tr>\n",
              "    <tr>\n",
              "      <th>top</th>\n",
              "      <td>City Hotel</td>\n",
              "      <td>NaN</td>\n",
              "      <td>NaN</td>\n",
              "      <td>NaN</td>\n",
              "      <td>August</td>\n",
              "      <td>NaN</td>\n",
              "      <td>NaN</td>\n",
              "      <td>NaN</td>\n",
              "      <td>NaN</td>\n",
              "      <td>NaN</td>\n",
              "      <td>NaN</td>\n",
              "      <td>NaN</td>\n",
              "      <td>BB</td>\n",
              "      <td>PRT</td>\n",
              "      <td>Online TA</td>\n",
              "      <td>TA/TO</td>\n",
              "      <td>NaN</td>\n",
              "      <td>NaN</td>\n",
              "      <td>NaN</td>\n",
              "      <td>A</td>\n",
              "      <td>A</td>\n",
              "      <td>NaN</td>\n",
              "      <td>No Deposit</td>\n",
              "      <td>NaN</td>\n",
              "      <td>NaN</td>\n",
              "      <td>NaN</td>\n",
              "      <td>Transient</td>\n",
              "      <td>NaN</td>\n",
              "      <td>NaN</td>\n",
              "      <td>NaN</td>\n",
              "      <td>Check-Out</td>\n",
              "      <td>2015-10-21</td>\n",
              "    </tr>\n",
              "    <tr>\n",
              "      <th>freq</th>\n",
              "      <td>79330</td>\n",
              "      <td>NaN</td>\n",
              "      <td>NaN</td>\n",
              "      <td>NaN</td>\n",
              "      <td>13877</td>\n",
              "      <td>NaN</td>\n",
              "      <td>NaN</td>\n",
              "      <td>NaN</td>\n",
              "      <td>NaN</td>\n",
              "      <td>NaN</td>\n",
              "      <td>NaN</td>\n",
              "      <td>NaN</td>\n",
              "      <td>92310</td>\n",
              "      <td>48590</td>\n",
              "      <td>56477</td>\n",
              "      <td>97870</td>\n",
              "      <td>NaN</td>\n",
              "      <td>NaN</td>\n",
              "      <td>NaN</td>\n",
              "      <td>85994</td>\n",
              "      <td>74053</td>\n",
              "      <td>NaN</td>\n",
              "      <td>104641</td>\n",
              "      <td>NaN</td>\n",
              "      <td>NaN</td>\n",
              "      <td>NaN</td>\n",
              "      <td>89613</td>\n",
              "      <td>NaN</td>\n",
              "      <td>NaN</td>\n",
              "      <td>NaN</td>\n",
              "      <td>75166</td>\n",
              "      <td>1461</td>\n",
              "    </tr>\n",
              "    <tr>\n",
              "      <th>mean</th>\n",
              "      <td>NaN</td>\n",
              "      <td>0.370416</td>\n",
              "      <td>104.011416</td>\n",
              "      <td>2016.156554</td>\n",
              "      <td>NaN</td>\n",
              "      <td>27.165173</td>\n",
              "      <td>15.798241</td>\n",
              "      <td>0.927599</td>\n",
              "      <td>2.500302</td>\n",
              "      <td>1.856403</td>\n",
              "      <td>0.103890</td>\n",
              "      <td>0.007949</td>\n",
              "      <td>NaN</td>\n",
              "      <td>NaN</td>\n",
              "      <td>NaN</td>\n",
              "      <td>NaN</td>\n",
              "      <td>0.031912</td>\n",
              "      <td>0.087118</td>\n",
              "      <td>0.137097</td>\n",
              "      <td>NaN</td>\n",
              "      <td>NaN</td>\n",
              "      <td>0.221124</td>\n",
              "      <td>NaN</td>\n",
              "      <td>86.693382</td>\n",
              "      <td>189.266735</td>\n",
              "      <td>2.321149</td>\n",
              "      <td>NaN</td>\n",
              "      <td>101.831122</td>\n",
              "      <td>0.062518</td>\n",
              "      <td>0.571363</td>\n",
              "      <td>NaN</td>\n",
              "      <td>NaN</td>\n",
              "    </tr>\n",
              "    <tr>\n",
              "      <th>std</th>\n",
              "      <td>NaN</td>\n",
              "      <td>0.482918</td>\n",
              "      <td>106.863097</td>\n",
              "      <td>0.707476</td>\n",
              "      <td>NaN</td>\n",
              "      <td>13.605138</td>\n",
              "      <td>8.780829</td>\n",
              "      <td>0.998613</td>\n",
              "      <td>1.908286</td>\n",
              "      <td>0.579261</td>\n",
              "      <td>0.398561</td>\n",
              "      <td>0.097436</td>\n",
              "      <td>NaN</td>\n",
              "      <td>NaN</td>\n",
              "      <td>NaN</td>\n",
              "      <td>NaN</td>\n",
              "      <td>0.175767</td>\n",
              "      <td>0.844336</td>\n",
              "      <td>1.497437</td>\n",
              "      <td>NaN</td>\n",
              "      <td>NaN</td>\n",
              "      <td>0.652306</td>\n",
              "      <td>NaN</td>\n",
              "      <td>110.774548</td>\n",
              "      <td>131.655015</td>\n",
              "      <td>17.594721</td>\n",
              "      <td>NaN</td>\n",
              "      <td>50.535790</td>\n",
              "      <td>0.245291</td>\n",
              "      <td>0.792798</td>\n",
              "      <td>NaN</td>\n",
              "      <td>NaN</td>\n",
              "    </tr>\n",
              "    <tr>\n",
              "      <th>min</th>\n",
              "      <td>NaN</td>\n",
              "      <td>0.000000</td>\n",
              "      <td>0.000000</td>\n",
              "      <td>2015.000000</td>\n",
              "      <td>NaN</td>\n",
              "      <td>1.000000</td>\n",
              "      <td>1.000000</td>\n",
              "      <td>0.000000</td>\n",
              "      <td>0.000000</td>\n",
              "      <td>0.000000</td>\n",
              "      <td>0.000000</td>\n",
              "      <td>0.000000</td>\n",
              "      <td>NaN</td>\n",
              "      <td>NaN</td>\n",
              "      <td>NaN</td>\n",
              "      <td>NaN</td>\n",
              "      <td>0.000000</td>\n",
              "      <td>0.000000</td>\n",
              "      <td>0.000000</td>\n",
              "      <td>NaN</td>\n",
              "      <td>NaN</td>\n",
              "      <td>0.000000</td>\n",
              "      <td>NaN</td>\n",
              "      <td>1.000000</td>\n",
              "      <td>6.000000</td>\n",
              "      <td>0.000000</td>\n",
              "      <td>NaN</td>\n",
              "      <td>-6.380000</td>\n",
              "      <td>0.000000</td>\n",
              "      <td>0.000000</td>\n",
              "      <td>NaN</td>\n",
              "      <td>NaN</td>\n",
              "    </tr>\n",
              "    <tr>\n",
              "      <th>25%</th>\n",
              "      <td>NaN</td>\n",
              "      <td>0.000000</td>\n",
              "      <td>18.000000</td>\n",
              "      <td>2016.000000</td>\n",
              "      <td>NaN</td>\n",
              "      <td>16.000000</td>\n",
              "      <td>8.000000</td>\n",
              "      <td>0.000000</td>\n",
              "      <td>1.000000</td>\n",
              "      <td>2.000000</td>\n",
              "      <td>0.000000</td>\n",
              "      <td>0.000000</td>\n",
              "      <td>NaN</td>\n",
              "      <td>NaN</td>\n",
              "      <td>NaN</td>\n",
              "      <td>NaN</td>\n",
              "      <td>0.000000</td>\n",
              "      <td>0.000000</td>\n",
              "      <td>0.000000</td>\n",
              "      <td>NaN</td>\n",
              "      <td>NaN</td>\n",
              "      <td>0.000000</td>\n",
              "      <td>NaN</td>\n",
              "      <td>9.000000</td>\n",
              "      <td>62.000000</td>\n",
              "      <td>0.000000</td>\n",
              "      <td>NaN</td>\n",
              "      <td>69.290000</td>\n",
              "      <td>0.000000</td>\n",
              "      <td>0.000000</td>\n",
              "      <td>NaN</td>\n",
              "      <td>NaN</td>\n",
              "    </tr>\n",
              "    <tr>\n",
              "      <th>50%</th>\n",
              "      <td>NaN</td>\n",
              "      <td>0.000000</td>\n",
              "      <td>69.000000</td>\n",
              "      <td>2016.000000</td>\n",
              "      <td>NaN</td>\n",
              "      <td>28.000000</td>\n",
              "      <td>16.000000</td>\n",
              "      <td>1.000000</td>\n",
              "      <td>2.000000</td>\n",
              "      <td>2.000000</td>\n",
              "      <td>0.000000</td>\n",
              "      <td>0.000000</td>\n",
              "      <td>NaN</td>\n",
              "      <td>NaN</td>\n",
              "      <td>NaN</td>\n",
              "      <td>NaN</td>\n",
              "      <td>0.000000</td>\n",
              "      <td>0.000000</td>\n",
              "      <td>0.000000</td>\n",
              "      <td>NaN</td>\n",
              "      <td>NaN</td>\n",
              "      <td>0.000000</td>\n",
              "      <td>NaN</td>\n",
              "      <td>14.000000</td>\n",
              "      <td>179.000000</td>\n",
              "      <td>0.000000</td>\n",
              "      <td>NaN</td>\n",
              "      <td>94.575000</td>\n",
              "      <td>0.000000</td>\n",
              "      <td>0.000000</td>\n",
              "      <td>NaN</td>\n",
              "      <td>NaN</td>\n",
              "    </tr>\n",
              "    <tr>\n",
              "      <th>75%</th>\n",
              "      <td>NaN</td>\n",
              "      <td>1.000000</td>\n",
              "      <td>160.000000</td>\n",
              "      <td>2017.000000</td>\n",
              "      <td>NaN</td>\n",
              "      <td>38.000000</td>\n",
              "      <td>23.000000</td>\n",
              "      <td>2.000000</td>\n",
              "      <td>3.000000</td>\n",
              "      <td>2.000000</td>\n",
              "      <td>0.000000</td>\n",
              "      <td>0.000000</td>\n",
              "      <td>NaN</td>\n",
              "      <td>NaN</td>\n",
              "      <td>NaN</td>\n",
              "      <td>NaN</td>\n",
              "      <td>0.000000</td>\n",
              "      <td>0.000000</td>\n",
              "      <td>0.000000</td>\n",
              "      <td>NaN</td>\n",
              "      <td>NaN</td>\n",
              "      <td>0.000000</td>\n",
              "      <td>NaN</td>\n",
              "      <td>229.000000</td>\n",
              "      <td>270.000000</td>\n",
              "      <td>0.000000</td>\n",
              "      <td>NaN</td>\n",
              "      <td>126.000000</td>\n",
              "      <td>0.000000</td>\n",
              "      <td>1.000000</td>\n",
              "      <td>NaN</td>\n",
              "      <td>NaN</td>\n",
              "    </tr>\n",
              "    <tr>\n",
              "      <th>max</th>\n",
              "      <td>NaN</td>\n",
              "      <td>1.000000</td>\n",
              "      <td>737.000000</td>\n",
              "      <td>2017.000000</td>\n",
              "      <td>NaN</td>\n",
              "      <td>53.000000</td>\n",
              "      <td>31.000000</td>\n",
              "      <td>19.000000</td>\n",
              "      <td>50.000000</td>\n",
              "      <td>55.000000</td>\n",
              "      <td>10.000000</td>\n",
              "      <td>10.000000</td>\n",
              "      <td>NaN</td>\n",
              "      <td>NaN</td>\n",
              "      <td>NaN</td>\n",
              "      <td>NaN</td>\n",
              "      <td>1.000000</td>\n",
              "      <td>26.000000</td>\n",
              "      <td>72.000000</td>\n",
              "      <td>NaN</td>\n",
              "      <td>NaN</td>\n",
              "      <td>21.000000</td>\n",
              "      <td>NaN</td>\n",
              "      <td>535.000000</td>\n",
              "      <td>543.000000</td>\n",
              "      <td>391.000000</td>\n",
              "      <td>NaN</td>\n",
              "      <td>5400.000000</td>\n",
              "      <td>8.000000</td>\n",
              "      <td>5.000000</td>\n",
              "      <td>NaN</td>\n",
              "      <td>NaN</td>\n",
              "    </tr>\n",
              "  </tbody>\n",
              "</table>\n",
              "</div>"
            ],
            "text/plain": [
              "             hotel    is_canceled  ...  reservation_status  reservation_status_date\n",
              "count       119390  119390.000000  ...              119390                   119390\n",
              "unique           2            NaN  ...                   3                      926\n",
              "top     City Hotel            NaN  ...           Check-Out               2015-10-21\n",
              "freq         79330            NaN  ...               75166                     1461\n",
              "mean           NaN       0.370416  ...                 NaN                      NaN\n",
              "std            NaN       0.482918  ...                 NaN                      NaN\n",
              "min            NaN       0.000000  ...                 NaN                      NaN\n",
              "25%            NaN       0.000000  ...                 NaN                      NaN\n",
              "50%            NaN       0.000000  ...                 NaN                      NaN\n",
              "75%            NaN       1.000000  ...                 NaN                      NaN\n",
              "max            NaN       1.000000  ...                 NaN                      NaN\n",
              "\n",
              "[11 rows x 32 columns]"
            ]
          },
          "metadata": {},
          "execution_count": 11
        }
      ]
    },
    {
      "cell_type": "markdown",
      "metadata": {
        "id": "OI5s5r9xJyop"
      },
      "source": [
        "## **Thought Process**"
      ]
    },
    {
      "cell_type": "markdown",
      "metadata": {
        "id": "a5wRiUr5J6BJ"
      },
      "source": [
        "What actually will drive the bookings? it is \n",
        "\n",
        "1. How Many Booking Were Cancelled?\n",
        "2. What is the booking ratio between Resort Hotel and City Hotel?\n",
        "3. What is the percentage of booking for each year?\n",
        "4. Which is the busiest month for hotels?\n",
        "5. From which country most guests come?\n",
        "6. How Long People Stay in the hotel?\n",
        "7. Which was the most booked accommodation type (Single, Couple, Family) ?"
      ]
    },
    {
      "cell_type": "markdown",
      "metadata": {
        "id": "ODUl2CRuLYZP"
      },
      "source": [
        "## **Handling Missing Data**"
      ]
    },
    {
      "cell_type": "code",
      "metadata": {
        "colab": {
          "base_uri": "https://localhost:8080/"
        },
        "id": "I3cN8E5PAmBG",
        "outputId": "4a3d3f07-e074-4022-c052-3df315e70197"
      },
      "source": [
        "# checking count of null/nan values\n",
        "# Missing Value Count Function\n",
        "def show_missing():\n",
        "    missing = data.columns[data.isnull().any()].tolist()\n",
        "    return missing\n",
        "\n",
        "# Missing data counts and percentage\n",
        "print('Missing Data Count')\n",
        "print(data[show_missing()].isnull().sum().sort_values(ascending = False))\n",
        "print('--'*50)\n",
        "print('Missing Data Percentage')\n",
        "print(round(data[show_missing()].isnull().sum().sort_values(ascending = False)/len(data)*100,2))\n"
      ],
      "execution_count": 14,
      "outputs": [
        {
          "output_type": "stream",
          "name": "stdout",
          "text": [
            "Missing Data Count\n",
            "company     112593\n",
            "agent        16340\n",
            "country        488\n",
            "children         4\n",
            "dtype: int64\n",
            "----------------------------------------------------------------------------------------------------\n",
            "Missing Data Percentage\n",
            "company     94.31\n",
            "agent       13.69\n",
            "country      0.41\n",
            "children     0.00\n",
            "dtype: float64\n"
          ]
        }
      ]
    },
    {
      "cell_type": "markdown",
      "metadata": {
        "id": "Vhr7FIr1A-TZ"
      },
      "source": [
        "#### company \n",
        "- we have quite alot of NaN values in company 94.31% whic cant be used and i Highly doubt its impact on the analysis and will remove that column. we can't just remove rows with NaN value is because that will remove 112593 rows out of 119390 rows for rest of columns also.So removing columns will be a better idea since that  attributes (companies)"
      ]
    },
    {
      "cell_type": "code",
      "metadata": {
        "id": "09s8T51rB3i7"
      },
      "source": [
        "# Dropping company column\n",
        "data=data.drop(columns=['company'])"
      ],
      "execution_count": 15,
      "outputs": []
    },
    {
      "cell_type": "markdown",
      "metadata": {
        "id": "rE43nIlhQZW0"
      },
      "source": [
        "#### Agent\n",
        "we have 16340(13.69%) values missing from agent column which is manageable we can replace those with median of agent\n"
      ]
    },
    {
      "cell_type": "code",
      "metadata": {
        "colab": {
          "base_uri": "https://localhost:8080/",
          "height": 354
        },
        "id": "0aIy2bfEaiGy",
        "outputId": "06cdc7ce-d0c3-41a5-dec8-7d0bd7e13282"
      },
      "source": [
        "# plot to see agent distribution\n",
        "sns.distplot(data['agent'])"
      ],
      "execution_count": 52,
      "outputs": [
        {
          "output_type": "stream",
          "name": "stderr",
          "text": [
            "/usr/local/lib/python3.7/dist-packages/seaborn/distributions.py:2619: FutureWarning: `distplot` is a deprecated function and will be removed in a future version. Please adapt your code to use either `displot` (a figure-level function with similar flexibility) or `histplot` (an axes-level function for histograms).\n",
            "  warnings.warn(msg, FutureWarning)\n"
          ]
        },
        {
          "output_type": "execute_result",
          "data": {
            "text/plain": [
              "<matplotlib.axes._subplots.AxesSubplot at 0x7f0aea1f7b50>"
            ]
          },
          "metadata": {},
          "execution_count": 52
        },
        {
          "output_type": "display_data",
          "data": {
            "image/png": "[encoded data removed]",
            "text/plain": [
              "<Figure size 432x288 with 1 Axes>"
            ]
          },
          "metadata": {
            "needs_background": "light"
          }
        }
      ]
    },
    {
      "cell_type": "markdown",
      "metadata": {
        "id": "yY0ynHYGbpOf"
      },
      "source": [
        "##### Positively Skewed - So we will impute it with Median"
      ]
    },
    {
      "cell_type": "code",
      "metadata": {
        "id": "C25usK6UR2j1"
      },
      "source": [
        "# replacing missing values with median\n",
        "data['agent'].fillna(data['agent'].median(),inplace=True)"
      ],
      "execution_count": 53,
      "outputs": []
    },
    {
      "cell_type": "markdown",
      "metadata": {
        "id": "sLAPtMM4T_hq"
      },
      "source": [
        "#### Country \n",
        "we have 488 (0.41) values missing from country column which is manageable we can replace those with mode of country \n",
        "country being categorical \n"
      ]
    },
    {
      "cell_type": "code",
      "metadata": {
        "id": "puSNbPyUUh2C"
      },
      "source": [
        "# replacing missing values with mode of country\n",
        "data['country'].mode()\n",
        "data['country'].fillna(data['country'].mode().to_string(),inplace=True)\n"
      ],
      "execution_count": 57,
      "outputs": []
    },
    {
      "cell_type": "markdown",
      "metadata": {
        "id": "vAJH_pZVaIyx"
      },
      "source": [
        "#### Children \n",
        " we have only 4 values missing with median i.e 0 "
      ]
    },
    {
      "cell_type": "code",
      "metadata": {
        "colab": {
          "base_uri": "https://localhost:8080/",
          "height": 354
        },
        "id": "vggRYSV7cgcJ",
        "outputId": "1c28185b-19e3-40df-f77e-d350807802cc"
      },
      "source": [
        "sns.distplot(data['children'])"
      ],
      "execution_count": 55,
      "outputs": [
        {
          "output_type": "stream",
          "name": "stderr",
          "text": [
            "/usr/local/lib/python3.7/dist-packages/seaborn/distributions.py:2619: FutureWarning: `distplot` is a deprecated function and will be removed in a future version. Please adapt your code to use either `displot` (a figure-level function with similar flexibility) or `histplot` (an axes-level function for histograms).\n",
            "  warnings.warn(msg, FutureWarning)\n"
          ]
        },
        {
          "output_type": "execute_result",
          "data": {
            "text/plain": [
              "<matplotlib.axes._subplots.AxesSubplot at 0x7f0adf33e510>"
            ]
          },
          "metadata": {},
          "execution_count": 55
        },
        {
          "output_type": "display_data",
          "data": {
            "image/png": "[encoded data removed]",
            "text/plain": [
              "<Figure size 432x288 with 1 Axes>"
            ]
          },
          "metadata": {
            "needs_background": "light"
          }
        }
      ]
    },
    {
      "cell_type": "markdown",
      "metadata": {
        "id": "Gi4Tkty1cpme"
      },
      "source": [
        "##### Positively Skewed - So we will impute it with Median"
      ]
    },
    {
      "cell_type": "code",
      "metadata": {
        "id": "9YxV9LvEcwau"
      },
      "source": [
        "# replacing missing values with median\n",
        "data['children'].fillna(data['children'].median(),inplace=True)"
      ],
      "execution_count": 56,
      "outputs": []
    },
    {
      "cell_type": "markdown",
      "metadata": {
        "id": "2OnMNkhBdSGz"
      },
      "source": [
        "#### checking again for missing values"
      ]
    },
    {
      "cell_type": "code",
      "metadata": {
        "colab": {
          "base_uri": "https://localhost:8080/"
        },
        "id": "Sd8VdDsRVGoE",
        "outputId": "81a6fe0c-ae10-4c1d-ace9-287c62b687a0"
      },
      "source": [
        "data.isnull().sum()"
      ],
      "execution_count": 51,
      "outputs": [
        {
          "output_type": "execute_result",
          "data": {
            "text/plain": [
              "hotel                             0\n",
              "is_canceled                       0\n",
              "lead_time                         0\n",
              "arrival_date_year                 0\n",
              "arrival_date_month                0\n",
              "arrival_date_week_number          0\n",
              "arrival_date_day_of_month         0\n",
              "stays_in_weekend_nights           0\n",
              "stays_in_week_nights              0\n",
              "adults                            0\n",
              "children                          4\n",
              "babies                            0\n",
              "meal                              0\n",
              "country                           0\n",
              "market_segment                    0\n",
              "distribution_channel              0\n",
              "is_repeated_guest                 0\n",
              "previous_cancellations            0\n",
              "previous_bookings_not_canceled    0\n",
              "reserved_room_type                0\n",
              "assigned_room_type                0\n",
              "booking_changes                   0\n",
              "deposit_type                      0\n",
              "agent                             0\n",
              "days_in_waiting_list              0\n",
              "customer_type                     0\n",
              "adr                               0\n",
              "required_car_parking_spaces       0\n",
              "total_of_special_requests         0\n",
              "reservation_status                0\n",
              "reservation_status_date           0\n",
              "dtype: int64"
            ]
          },
          "metadata": {},
          "execution_count": 51
        }
      ]
    },
    {
      "cell_type": "markdown",
      "metadata": {
        "id": "UDc7FsbDdmve"
      },
      "source": [
        "all are dealt with"
      ]
    },
    {
      "cell_type": "markdown",
      "metadata": {
        "id": "MCk28B3_fEQ8"
      },
      "source": [
        "# **Basic EDA**"
      ]
    },
    {
      "cell_type": "code",
      "metadata": {
        "colab": {
          "base_uri": "https://localhost:8080/",
          "height": 787
        },
        "id": "00qWXvuFOva7",
        "outputId": "2e2f450e-4f52-4ef8-d40d-2138d9ec1c39"
      },
      "source": [
        "data.hist(figsize=(20,14))\n",
        "plt.show()"
      ],
      "execution_count": null,
      "outputs": [
        {
          "data": {
            "image/png": "[encoded data removed]",
            "text/plain": [
              "<Figure size 1440x1008 with 20 Axes>"
            ]
          },
          "metadata": {},
          "output_type": "display_data"
        }
      ]
    },
    {
      "cell_type": "markdown",
      "metadata": {
        "id": "z8cIiQ3_P3N8"
      },
      "source": [
        "### but above graphs doesnt make that much sense so we go category by category comparing making it easy to understand"
      ]
    },
    {
      "cell_type": "markdown",
      "metadata": {
        "id": "svVPGRGOyLO2"
      },
      "source": [
        "#A) Overview of hotel types \n",
        "- As we can see there are only 2 types of hotels(resort or city),we can just simply use barchart or pie chart to show "
      ]
    },
    {
      "cell_type": "code",
      "metadata": {
        "colab": {
          "base_uri": "https://localhost:8080/",
          "height": 575
        },
        "id": "Zietuf4Qy0xp",
        "outputId": "38c0b5db-cdce-45c9-f819-e612b05669a8"
      },
      "source": [
        "# Enlarging the pie chart\n",
        "plt.rcParams['figure.figsize'] = 8,8\n",
        "\n",
        "# Indexing labels. tolist() will convert the index to list for easy manipulation\n",
        "labels = data['hotel'].value_counts().index.tolist()\n",
        "\n",
        "# Convert value counts to list\n",
        "sizes = data['hotel'].value_counts().tolist()\n",
        "\n",
        "# Aexplode will determine how much each section is separated from each other \n",
        "explode = (0, 0.1)\n",
        "\n",
        "# Determine colour of pie chart\n",
        "colors = ['green','yellow']\n",
        "plt.pie(sizes, explode=explode, labels=labels, colors=colors, autopct='%1.1f%%',startangle=90, textprops={'fontsize': 14})"
      ],
      "execution_count": null,
      "outputs": [
        {
          "data": {
            "text/plain": [
              "([<matplotlib.patches.Wedge at 0x7fb6cba6fe90>,\n",
              "  <matplotlib.patches.Wedge at 0x7fb6cba736d0>],\n",
              " [Text(-0.9520945954321745, -0.5509227544300964, 'City Hotel'),\n",
              "  Text(1.0386485932920646, 0.6010067384417713, 'Resort Hotel')],\n",
              " [Text(-0.519324324781186, -0.30050332059823437, '66.7%'),\n",
              "  Text(0.6058783460870376, 0.35058726409103325, '33.3%')])"
            ]
          },
          "execution_count": 13,
          "metadata": {},
          "output_type": "execute_result"
        },
        {
          "data": {
            "image/png": "[encoded data removed]",
            "text/plain": [
              "<Figure size 576x576 with 1 Axes>"
            ]
          },
          "metadata": {},
          "output_type": "display_data"
        }
      ]
    },
    {
      "cell_type": "markdown",
      "metadata": {
        "id": "fW2XxALx0eMU"
      },
      "source": [
        "## What do we see here?\n",
        "- It seems that a huge proportion of hotels was city hotel. Resort hotel tend to be on the expensive side and most people will just stick with city hotel.\n",
        "- Also, resort hotels tend to be appropriate for larger group of people. \n",
        "## Let's have an overview of the number of people who booked the hotel. "
      ]
    },
    {
      "cell_type": "code",
      "metadata": {
        "colab": {
          "base_uri": "https://localhost:8080/",
          "height": 143
        },
        "id": "v4uHvO5j14cu",
        "outputId": "03ee28eb-1109-4cc0-8339-35a95c9ef5d0"
      },
      "source": [
        "# looking into adults\n",
        "# using groupby to group according to hotel type \n",
        "data['adults'].groupby(data['hotel']).describe()\n"
      ],
      "execution_count": null,
      "outputs": [
        {
          "data": {
            "text/html": [
              "<div>\n",
              "<style scoped>\n",
              "    .dataframe tbody tr th:only-of-type {\n",
              "        vertical-align: middle;\n",
              "    }\n",
              "\n",
              "    .dataframe tbody tr th {\n",
              "        vertical-align: top;\n",
              "    }\n",
              "\n",
              "    .dataframe thead th {\n",
              "        text-align: right;\n",
              "    }\n",
              "</style>\n",
              "<table border=\"1\" class=\"dataframe\">\n",
              "  <thead>\n",
              "    <tr style=\"text-align: right;\">\n",
              "      <th></th>\n",
              "      <th>count</th>\n",
              "      <th>mean</th>\n",
              "      <th>std</th>\n",
              "      <th>min</th>\n",
              "      <th>25%</th>\n",
              "      <th>50%</th>\n",
              "      <th>75%</th>\n",
              "      <th>max</th>\n",
              "    </tr>\n",
              "    <tr>\n",
              "      <th>hotel</th>\n",
              "      <th></th>\n",
              "      <th></th>\n",
              "      <th></th>\n",
              "      <th></th>\n",
              "      <th></th>\n",
              "      <th></th>\n",
              "      <th></th>\n",
              "      <th></th>\n",
              "    </tr>\n",
              "  </thead>\n",
              "  <tbody>\n",
              "    <tr>\n",
              "      <th>City Hotel</th>\n",
              "      <td>79302.0</td>\n",
              "      <td>1.851126</td>\n",
              "      <td>0.509013</td>\n",
              "      <td>0.0</td>\n",
              "      <td>2.0</td>\n",
              "      <td>2.0</td>\n",
              "      <td>2.0</td>\n",
              "      <td>4.0</td>\n",
              "    </tr>\n",
              "    <tr>\n",
              "      <th>Resort Hotel</th>\n",
              "      <td>39596.0</td>\n",
              "      <td>1.872942</td>\n",
              "      <td>0.697112</td>\n",
              "      <td>0.0</td>\n",
              "      <td>2.0</td>\n",
              "      <td>2.0</td>\n",
              "      <td>2.0</td>\n",
              "      <td>55.0</td>\n",
              "    </tr>\n",
              "  </tbody>\n",
              "</table>\n",
              "</div>"
            ],
            "text/plain": [
              "                count      mean       std  min  25%  50%  75%   max\n",
              "hotel                                                              \n",
              "City Hotel    79302.0  1.851126  0.509013  0.0  2.0  2.0  2.0   4.0\n",
              "Resort Hotel  39596.0  1.872942  0.697112  0.0  2.0  2.0  2.0  55.0"
            ]
          },
          "execution_count": 52,
          "metadata": {},
          "output_type": "execute_result"
        }
      ]
    },
    {
      "cell_type": "code",
      "metadata": {
        "colab": {
          "base_uri": "https://localhost:8080/",
          "height": 143
        },
        "id": "MT9wcJ912XAG",
        "outputId": "b643d3c7-6328-4a76-a0c4-fca306129130"
      },
      "source": [
        "# looking into children\n",
        "# using groupby to group according to hotel type\n",
        "data['children'].groupby(data['hotel']).describe()\n",
        "\n"
      ],
      "execution_count": null,
      "outputs": [
        {
          "data": {
            "text/html": [
              "<div>\n",
              "<style scoped>\n",
              "    .dataframe tbody tr th:only-of-type {\n",
              "        vertical-align: middle;\n",
              "    }\n",
              "\n",
              "    .dataframe tbody tr th {\n",
              "        vertical-align: top;\n",
              "    }\n",
              "\n",
              "    .dataframe thead th {\n",
              "        text-align: right;\n",
              "    }\n",
              "</style>\n",
              "<table border=\"1\" class=\"dataframe\">\n",
              "  <thead>\n",
              "    <tr style=\"text-align: right;\">\n",
              "      <th></th>\n",
              "      <th>count</th>\n",
              "      <th>mean</th>\n",
              "      <th>std</th>\n",
              "      <th>min</th>\n",
              "      <th>25%</th>\n",
              "      <th>50%</th>\n",
              "      <th>75%</th>\n",
              "      <th>max</th>\n",
              "    </tr>\n",
              "    <tr>\n",
              "      <th>hotel</th>\n",
              "      <th></th>\n",
              "      <th></th>\n",
              "      <th></th>\n",
              "      <th></th>\n",
              "      <th></th>\n",
              "      <th></th>\n",
              "      <th></th>\n",
              "      <th></th>\n",
              "    </tr>\n",
              "  </thead>\n",
              "  <tbody>\n",
              "    <tr>\n",
              "      <th>City Hotel</th>\n",
              "      <td>79302.0</td>\n",
              "      <td>0.091397</td>\n",
              "      <td>0.372230</td>\n",
              "      <td>0.0</td>\n",
              "      <td>0.0</td>\n",
              "      <td>0.0</td>\n",
              "      <td>0.0</td>\n",
              "      <td>3.0</td>\n",
              "    </tr>\n",
              "    <tr>\n",
              "      <th>Resort Hotel</th>\n",
              "      <td>39596.0</td>\n",
              "      <td>0.129862</td>\n",
              "      <td>0.447192</td>\n",
              "      <td>0.0</td>\n",
              "      <td>0.0</td>\n",
              "      <td>0.0</td>\n",
              "      <td>0.0</td>\n",
              "      <td>10.0</td>\n",
              "    </tr>\n",
              "  </tbody>\n",
              "</table>\n",
              "</div>"
            ],
            "text/plain": [
              "                count      mean       std  min  25%  50%  75%   max\n",
              "hotel                                                              \n",
              "City Hotel    79302.0  0.091397  0.372230  0.0  0.0  0.0  0.0   3.0\n",
              "Resort Hotel  39596.0  0.129862  0.447192  0.0  0.0  0.0  0.0  10.0"
            ]
          },
          "execution_count": 15,
          "metadata": {},
          "output_type": "execute_result"
        }
      ]
    },
    {
      "cell_type": "markdown",
      "metadata": {
        "id": "IPRAQu1T3tdS"
      },
      "source": [
        "- from above we can infer resort hotels are better choice for families as adults and children have higher means"
      ]
    },
    {
      "cell_type": "markdown",
      "metadata": {
        "id": "h4u-NxfI4wis"
      },
      "source": [
        "# B) Overview of cancelled bookings"
      ]
    },
    {
      "cell_type": "code",
      "metadata": {
        "colab": {
          "base_uri": "https://localhost:8080/",
          "height": 574
        },
        "id": "ccXPQ9dL5K2H",
        "outputId": "891bb1ef-6175-4de9-ceab-f4133b56b7bf"
      },
      "source": [
        "# encoding 1 as cancelled and o as not cancelled\n",
        "data['is_canceled']=data.is_canceled.replace([1,0],['canceled','not_canceled'])\n",
        "sns.countplot(data['is_canceled'])"
      ],
      "execution_count": null,
      "outputs": [
        {
          "name": "stderr",
          "output_type": "stream",
          "text": [
            "/usr/local/lib/python3.7/dist-packages/seaborn/_decorators.py:43: FutureWarning: Pass the following variable as a keyword arg: x. From version 0.12, the only valid positional argument will be `data`, and passing other arguments without an explicit keyword will result in an error or misinterpretation.\n",
            "  FutureWarning\n"
          ]
        },
        {
          "data": {
            "text/plain": [
              "<matplotlib.axes._subplots.AxesSubplot at 0x7fb6cbad2f90>"
            ]
          },
          "execution_count": 16,
          "metadata": {},
          "output_type": "execute_result"
        },
        {
          "data": {
            "image/png": "[encoded data removed]",
            "text/plain": [
              "<Figure size 576x576 with 1 Axes>"
            ]
          },
          "metadata": {},
          "output_type": "display_data"
        }
      ]
    },
    {
      "cell_type": "markdown",
      "metadata": {
        "id": "FAePAmas6dgz"
      },
      "source": [
        "## what do we see?\n",
        "_ it seems mojority were not canceled\n",
        "\n",
        "### Let's look into cancellation rate among different type of hotel."
      ]
    },
    {
      "cell_type": "code",
      "metadata": {
        "colab": {
          "base_uri": "https://localhost:8080/",
          "height": 531
        },
        "id": "6oyVC8VB7IoW",
        "outputId": "366cf3b5-d563-4fa8-9a84-1c90ded05510"
      },
      "source": [
        "lst1 = ['is_canceled', 'hotel']\n",
        "type_of_hotel_canceled = data[lst1]\n",
        "canceled_hotel = type_of_hotel_canceled[type_of_hotel_canceled['is_canceled'] == 'canceled'].groupby(['hotel']).size().reset_index(name = 'count')\n",
        "sns.barplot(data = canceled_hotel, x = 'hotel', y = 'count').set_title('Graph showing cancellation rates in city and resort hotel')\n"
      ],
      "execution_count": null,
      "outputs": [
        {
          "data": {
            "text/plain": [
              "Text(0.5, 1.0, 'Graph showing cancellation rates in city and resort hotel')"
            ]
          },
          "execution_count": 17,
          "metadata": {},
          "output_type": "execute_result"
        },
        {
          "data": {
            "image/png": "[encoded data removed]",
            "text/plain": [
              "<Figure size 576x576 with 1 Axes>"
            ]
          },
          "metadata": {},
          "output_type": "display_data"
        }
      ]
    },
    {
      "cell_type": "markdown",
      "metadata": {
        "id": "WlCRhPE_85YT"
      },
      "source": [
        "## what do we see above \n",
        "\n",
        "- we see most proportion of cancellation from city hotel, which should not come as surprise since most of of hotel bookings are from city hotels"
      ]
    },
    {
      "cell_type": "markdown",
      "metadata": {
        "id": "9tSQeQPX-Km4"
      },
      "source": [
        "# C) Overview of arrival period"
      ]
    },
    {
      "cell_type": "code",
      "metadata": {
        "colab": {
          "base_uri": "https://localhost:8080/",
          "height": 519
        },
        "id": "JkWX26HU-Y4b",
        "outputId": "eb0a5e19-553d-4e4d-9e87-a86d62002a65"
      },
      "source": [
        "# creating a list of arrivals date day year \n",
        "list=['hotel','arrival_date_year','arrival_date_month','arrival_date_day_of_month']\n",
        "arrival=data[list]\n",
        "# arrivals per year \n",
        "sns.countplot(data=arrival,x='arrival_date_year',hue='hotel')"
      ],
      "execution_count": null,
      "outputs": [
        {
          "data": {
            "text/plain": [
              "<matplotlib.axes._subplots.AxesSubplot at 0x7fb6c3803790>"
            ]
          },
          "execution_count": 47,
          "metadata": {},
          "output_type": "execute_result"
        },
        {
          "data": {
            "image/png": "[encoded data removed]",
            "text/plain": [
              "<Figure size 576x576 with 1 Axes>"
            ]
          },
          "metadata": {},
          "output_type": "display_data"
        }
      ]
    },
    {
      "cell_type": "code",
      "metadata": {
        "colab": {
          "base_uri": "https://localhost:8080/",
          "height": 357
        },
        "id": "ix6aey8-_s5x",
        "outputId": "7588f79a-015e-4289-bacd-8501f3432978"
      },
      "source": [
        "# now lets see monthly arrivals\n",
        "plt.figure(figsize=(20,5))\n",
        "\n",
        "sns.countplot(data =arrival, x = 'arrival_date_month', hue = 'hotel', order = ['January', 'February', 'March', 'April', 'May', 'June', 'July',\n",
        "          'August', 'September', 'October', 'November', 'December']).set_title('Graph showing number of arrival per month',fontsize=20)\n",
        "plt.xlabel('Month')\n",
        "plt.ylabel('Count')"
      ],
      "execution_count": null,
      "outputs": [
        {
          "data": {
            "text/plain": [
              "Text(0, 0.5, 'Count')"
            ]
          },
          "execution_count": 66,
          "metadata": {},
          "output_type": "execute_result"
        },
        {
          "data": {
            "image/png": "[encoded data removed]",
            "text/plain": [
              "<Figure size 1440x360 with 1 Axes>"
            ]
          },
          "metadata": {},
          "output_type": "display_data"
        }
      ]
    },
    {
      "cell_type": "markdown",
      "metadata": {
        "id": "y1ts2bBNDlvf"
      },
      "source": [
        " ![cp3.jpg](data:image/jpeg;base64,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)\n",
        " ## what stopping us we can go daywise arrivals"
      ]
    },
    {
      "cell_type": "code",
      "metadata": {
        "colab": {
          "base_uri": "https://localhost:8080/",
          "height": 375
        },
        "id": "O_oQsokeEi93",
        "outputId": "1c7a404f-9398-4854-a9d8-d85f9d5ca795"
      },
      "source": [
        "# creating graph showing day wise arrivals usinh histogram\n",
        "plt.figure(figsize=(15,5))\n",
        "sns.histplot(data =arrival, x = 'arrival_date_day_of_month', hue= 'hotel').set_title('Graph showing number of arrival per day', fontsize = 20)"
      ],
      "execution_count": null,
      "outputs": [
        {
          "data": {
            "text/plain": [
              "Text(0.5, 1.0, 'Graph showing number of arrival per day')"
            ]
          },
          "execution_count": 106,
          "metadata": {},
          "output_type": "execute_result"
        },
        {
          "data": {
            "image/png": "[encoded data removed]",
            "text/plain": [
              "<Figure size 1080x360 with 1 Axes>"
            ]
          },
          "metadata": {},
          "output_type": "display_data"
        }
      ]
    },
    {
      "cell_type": "markdown",
      "metadata": {
        "id": "92EIT_gSHG99"
      },
      "source": [
        "## So what do we see?\n",
        "- I can see that 2016 seems to be the year where hotel booking is at its highest. We also see an increasing trend in booking around the middle of the year, with August being the highest. Summer ends around August, followed straight by autumn. It seems that summer period is a peak period for hotel booking. \n",
        "- We do notice a wavy trend for the arrival day of month. Could the peaks belong to a weekend? (i.e Will people tend to book over the weekends?)"
      ]
    },
    {
      "cell_type": "markdown",
      "metadata": {
        "id": "8AEZk7u2IOal"
      },
      "source": [
        "### lets see what we infer above about peoples staying over weekends is true or not?"
      ]
    },
    {
      "cell_type": "code",
      "metadata": {
        "colab": {
          "base_uri": "https://localhost:8080/",
          "height": 476
        },
        "id": "1U9wAFu8rJCe",
        "outputId": "ea847486-ce09-492b-b229-947cbe84c0ed"
      },
      "source": [
        "# plot a histplot to analyse number os stays in weekend nights\n",
        "plt.figure(figsize=(12, 7))\n",
        "sns.histplot(data['stays_in_weekend_nights'], color='blue')\n",
        "plt.xlabel('stays in weekend nights')\n",
        "plt.ylabel('count')\n",
        "plt.title('number of stays in weekend nights')\n"
      ],
      "execution_count": null,
      "outputs": [
        {
          "data": {
            "text/plain": [
              "Text(0.5, 1.0, 'number of stays in weekend nights')"
            ]
          },
          "execution_count": 107,
          "metadata": {},
          "output_type": "execute_result"
        },
        {
          "data": {
            "image/png": "[encoded data removed]",
            "text/plain": [
              "<Figure size 864x504 with 1 Axes>"
            ]
          },
          "metadata": {},
          "output_type": "display_data"
        }
      ]
    },
    {
      "cell_type": "code",
      "metadata": {
        "colab": {
          "base_uri": "https://localhost:8080/",
          "height": 476
        },
        "id": "6iS5alPN1J9G",
        "outputId": "f0ad22c0-ecf8-4c45-a3a0-47e7a2a7ea58"
      },
      "source": [
        "# plot a histplot to analyse number os stays in weekday nights\n",
        "plt.figure(figsize=(12, 7))\n",
        "sns.histplot(data['stays_in_week_nights'], color='red')\n",
        "plt.xlabel('stays in weekday nights')\n",
        "plt.ylabel('count')\n",
        "plt.title('number of stays in weekday nights')\n"
      ],
      "execution_count": null,
      "outputs": [
        {
          "data": {
            "text/plain": [
              "Text(0.5, 1.0, 'number of stays in weekday nights')"
            ]
          },
          "execution_count": 108,
          "metadata": {},
          "output_type": "execute_result"
        },
        {
          "data": {
            "image/png": "[encoded data removed]",
            "text/plain": [
              "<Figure size 864x504 with 1 Axes>"
            ]
          },
          "metadata": {},
          "output_type": "display_data"
        }
      ]
    },
    {
      "cell_type": "markdown",
      "metadata": {
        "id": "C4-maJCj52Th"
      },
      "source": [
        "## what do we see here \n",
        "- It seems that majority of the stays are over the weekday's night. Hence, it seems that whatever we saw for the chart on day of the month was random. "
      ]
    },
    {
      "cell_type": "markdown",
      "metadata": {
        "id": "8wCX3cEx6SOa"
      },
      "source": [
        "## type of visitors \n",
        "- lets see types of visitors and their choices in hotel type"
      ]
    },
    {
      "cell_type": "code",
      "metadata": {
        "colab": {
          "background_save": true,
          "base_uri": "https://localhost:8080/",
          "height": 481
        },
        "id": "iS1AYJ32OIKV",
        "outputId": "02ab195e-b373-4892-bacd-bddd121357cc"
      },
      "source": [
        "# number of adults visting\n",
        "plt.figure(figsize=(13,7))\n",
        "plt.subplot(1,3,1)\n",
        "sns.countplot(data = data, x = 'adults', hue = 'hotel').set_title(\"Number of adults\", fontsize = 20)\n"
      ],
      "execution_count": null,
      "outputs": [
        {
          "data": {
            "text/plain": [
              "Text(0.5, 1.0, 'Number of adults')"
            ]
          },
          "execution_count": null,
          "metadata": {},
          "output_type": "execute_result"
        },
        {
          "data": {
            "image/png": "[encoded data removed]",
            "text/plain": [
              "<Figure size 792x432 with 1 Axes>"
            ]
          },
          "metadata": {},
          "output_type": "display_data"
        }
      ]
    },
    {
      "cell_type": "code",
      "metadata": {
        "colab": {
          "base_uri": "https://localhost:8080/",
          "height": 455
        },
        "id": "TYNxq8OjOXAo",
        "outputId": "8cc79958-f47c-4340-c66a-92f76a0823d0"
      },
      "source": [
        "# number of children visiting\n",
        "plt.figure(figsize=(11,6.5))\n",
        "sns.countplot(data = data, x = 'children', hue = 'hotel').set_title(\"Number of children\", fontsize = 20)\n"
      ],
      "execution_count": null,
      "outputs": [
        {
          "data": {
            "text/plain": [
              "Text(0.5, 1.0, 'Number of children')"
            ]
          },
          "execution_count": 96,
          "metadata": {},
          "output_type": "execute_result"
        },
        {
          "data": {
            "image/png": "[encoded data removed]",
            "text/plain": [
              "<Figure size 792x468 with 1 Axes>"
            ]
          },
          "metadata": {},
          "output_type": "display_data"
        }
      ]
    },
    {
      "cell_type": "code",
      "metadata": {
        "colab": {
          "base_uri": "https://localhost:8080/",
          "height": 455
        },
        "id": "Ops6Zw0fRmM7",
        "outputId": "13011fb0-6699-406e-8ae3-02f5c1386cd6"
      },
      "source": [
        "# number of babies visting \n",
        "plt.figure(figsize=(11,6.5))\n",
        "sns.countplot(data = data, x = 'babies', hue = 'hotel').set_title(\"Number of babies\", fontsize = 20)"
      ],
      "execution_count": null,
      "outputs": [
        {
          "data": {
            "text/plain": [
              "Text(0.5, 1.0, 'Number of babies')"
            ]
          },
          "execution_count": 98,
          "metadata": {},
          "output_type": "execute_result"
        },
        {
          "data": {
            "image/png": "[encoded data removed]",
            "text/plain": [
              "<Figure size 792x468 with 1 Axes>"
            ]
          },
          "metadata": {},
          "output_type": "display_data"
        }
      ]
    },
    {
      "cell_type": "markdown",
      "metadata": {
        "id": "7njgcRKkTScN"
      },
      "source": [
        "## What do we see here?\n",
        "- It seems that majority of the visitors travel in pair. Thos that travel with children or babies have no specific preference for the type of hotel. We do see that those bringing babies along prefer resort hotels. "
      ]
    },
    {
      "cell_type": "markdown",
      "metadata": {
        "id": "UDfPSzuYToTE"
      },
      "source": [
        "# Looking into which countries the visitors are from\n",
        "- We will want visitors with no cancellation. "
      ]
    },
    {
      "cell_type": "code",
      "metadata": {
        "colab": {
          "base_uri": "https://localhost:8080/",
          "height": 542
        },
        "id": "AaAUPnqMTpbP",
        "outputId": "495c307f-9aaa-4f61-dc6b-ae29399758bf"
      },
      "source": [
        "# creating a instance for visitors from different countries with no cancellations\n",
        "country_visitors = data[data['is_canceled'] == 'not_canceled'].groupby(['country']).size().reset_index(name = 'count')\n",
        "\n",
        "# We will be using Plotly.express to plot a choropleth map.\n",
        "import plotly.express as px\n",
        "\n",
        "px.choropleth(country_visitors,\n",
        "                    locations = \"country\",\n",
        "                    color= \"count\", \n",
        "                    hover_name= \"country\", # column to add to hover information\n",
        "                    color_continuous_scale=px.colors.sequential.Plasma,\n",
        "                    title=\"Home country of visitors\")"
      ],
      "execution_count": null,
      "outputs": [
        {
          "data": {
            "text/html": [
              "<html>\n",
              "<head><meta charset=\"utf-8\" /></head>\n",
              "<body>\n",
              "    <div>\n",
              "            <script src=\"https://cdnjs.cloudflare.com/ajax/libs/mathjax/2.7.5/MathJax.js?config=TeX-AMS-MML_SVG\"></script><script type=\"text/javascript\">if (window.MathJax) {MathJax.Hub.Config({SVG: {font: \"STIX-Web\"}});}</script>\n",
              "                <script type=\"text/javascript\">window.PlotlyConfig = {MathJaxConfig: 'local'};</script>\n",
              "        <script src=\"https://cdn.plot.ly/plotly-latest.min.js\"></script>    \n",
              "            <div id=\"b6e41419-fcc8-4362-86b6-577cda052bb0\" class=\"plotly-graph-div\" style=\"height:525px; width:100%;\"></div>\n",
              "            <script type=\"text/javascript\">\n",
              "                \n",
              "                    window.PLOTLYENV=window.PLOTLYENV || {};\n",
              "                    \n",
              "                if (document.getElementById(\"b6e41419-fcc8-4362-86b6-577cda052bb0\")) {\n",
              "                    Plotly.newPlot(\n",
              "                        'b6e41419-fcc8-4362-86b6-577cda052bb0',\n",
              "                        [{\"coloraxis\": \"coloraxis\", \"geo\": \"geo\", \"hoverlabel\": {\"namelength\": 0}, \"hovertemplate\": \"<b>%{hovertext}</b><br><br>country=%{location}<br>count=%{z}\", \"hovertext\": [\"ABW\", \"AGO\", \"AIA\", \"ALB\", \"AND\", \"ARE\", \"ARG\", \"ARM\", \"ASM\", \"ATA\", \"ATF\", \"AUS\", \"AUT\", \"AZE\", \"BDI\", \"BEL\", \"BFA\", \"BGD\", \"BGR\", \"BHR\", \"BHS\", \"BIH\", \"BLR\", \"BOL\", \"BRA\", \"BRB\", \"BWA\", \"CAF\", \"CHE\", \"CHL\", \"CHN\", \"CIV\", \"CMR\", \"CN\", \"COL\", \"COM\", \"CPV\", \"CRI\", \"CUB\", \"CYM\", \"CYP\", \"CZE\", \"DEU\", \"DJI\", \"DMA\", \"DNK\", \"DOM\", \"DZA\", \"ECU\", \"EGY\", \"ESP\", \"EST\", \"ETH\", \"FIN\", \"FRA\", \"FRO\", \"GAB\", \"GBR\", \"GEO\", \"GHA\", \"GIB\", \"GNB\", \"GRC\", \"GTM\", \"GUY\", \"HKG\", \"HRV\", \"HUN\", \"IDN\", \"IND\", \"IRL\", \"IRN\", \"IRQ\", \"ISL\", \"ISR\", \"ITA\", \"JAM\", \"JOR\", \"JPN\", \"KAZ\", \"KEN\", \"KIR\", \"KNA\", \"KOR\", \"KWT\", \"LAO\", \"LBN\", \"LBY\", \"LCA\", \"LIE\", \"LKA\", \"LTU\", \"LUX\", \"LVA\", \"MAC\", \"MAR\", \"MCO\", \"MDG\", \"MDV\", \"MEX\", \"MKD\", \"MLI\", \"MLT\", \"MMR\", \"MNE\", \"MOZ\", \"MRT\", \"MUS\", \"MWI\", \"MYS\", \"NAM\", \"NCL\", \"NGA\", \"NLD\", \"NOR\", \"NPL\", \"NZL\", \"OMN\", \"PAK\", \"PAN\", \"PER\", \"PHL\", \"PLW\", \"POL\", \"PRI\", \"PRT\", \"PRY\", \"PYF\", \"QAT\", \"ROU\", \"RUS\", \"RWA\", \"SAU\", \"SDN\", \"SEN\", \"SGP\", \"SLE\", \"SLV\", \"SMR\", \"SRB\", \"STP\", \"SUR\", \"SVK\", \"SVN\", \"SWE\", \"SYC\", \"SYR\", \"TGO\", \"THA\", \"TJK\", \"TMP\", \"TUN\", \"TUR\", \"TWN\", \"TZA\", \"UGA\", \"UKR\", \"URY\", \"USA\", \"UZB\", \"VEN\", \"VNM\", \"ZAF\", \"ZMB\", \"ZWE\"], \"locations\": [\"ABW\", \"AGO\", \"AIA\", \"ALB\", \"AND\", \"ARE\", \"ARG\", \"ARM\", \"ASM\", \"ATA\", \"ATF\", \"AUS\", \"AUT\", \"AZE\", \"BDI\", \"BEL\", \"BFA\", \"BGD\", \"BGR\", \"BHR\", \"BHS\", \"BIH\", \"BLR\", \"BOL\", \"BRA\", \"BRB\", \"BWA\", \"CAF\", \"CHE\", \"CHL\", \"CHN\", \"CIV\", \"CMR\", \"CN\", \"COL\", \"COM\", \"CPV\", \"CRI\", \"CUB\", \"CYM\", \"CYP\", \"CZE\", \"DEU\", \"DJI\", \"DMA\", \"DNK\", \"DOM\", \"DZA\", \"ECU\", \"EGY\", \"ESP\", \"EST\", \"ETH\", \"FIN\", \"FRA\", \"FRO\", \"GAB\", \"GBR\", \"GEO\", \"GHA\", \"GIB\", \"GNB\", \"GRC\", \"GTM\", \"GUY\", \"HKG\", \"HRV\", \"HUN\", \"IDN\", \"IND\", \"IRL\", \"IRN\", \"IRQ\", \"ISL\", \"ISR\", \"ITA\", \"JAM\", \"JOR\", \"JPN\", \"KAZ\", \"KEN\", \"KIR\", \"KNA\", \"KOR\", \"KWT\", \"LAO\", \"LBN\", \"LBY\", \"LCA\", \"LIE\", \"LKA\", \"LTU\", \"LUX\", \"LVA\", \"MAC\", \"MAR\", \"MCO\", \"MDG\", \"MDV\", \"MEX\", \"MKD\", \"MLI\", \"MLT\", \"MMR\", \"MNE\", \"MOZ\", \"MRT\", \"MUS\", \"MWI\", \"MYS\", \"NAM\", \"NCL\", \"NGA\", \"NLD\", \"NOR\", \"NPL\", \"NZL\", \"OMN\", \"PAK\", \"PAN\", \"PER\", \"PHL\", \"PLW\", \"POL\", \"PRI\", \"PRT\", \"PRY\", \"PYF\", \"QAT\", \"ROU\", \"RUS\", \"RWA\", \"SAU\", \"SDN\", \"SEN\", \"SGP\", \"SLE\", \"SLV\", \"SMR\", \"SRB\", \"STP\", \"SUR\", \"SVK\", \"SVN\", \"SWE\", \"SYC\", \"SYR\", \"TGO\", \"THA\", \"TJK\", \"TMP\", \"TUN\", \"TUR\", \"TWN\", \"TZA\", \"UGA\", \"UKR\", \"URY\", \"USA\", \"UZB\", \"VEN\", \"VNM\", \"ZAF\", \"ZMB\", \"ZWE\"], \"name\": \"\", \"type\": \"choropleth\", \"z\": [2, 157, 1, 10, 2, 8, 160, 6, 1, 2, 1, 319, 1033, 8, 1, 1868, 1, 3, 63, 1, 1, 10, 17, 10, 1394, 4, 1, 5, 1302, 49, 537, 4, 10, 1025, 48, 2, 12, 18, 8, 1, 40, 134, 6069, 1, 1, 326, 6, 82, 19, 21, 6391, 65, 2, 378, 8481, 1, 2, 9676, 7, 2, 7, 8, 93, 4, 1, 3, 75, 153, 11, 117, 2543, 60, 14, 53, 500, 2433, 6, 18, 169, 14, 4, 1, 2, 78, 10, 2, 22, 8, 1, 2, 7, 74, 178, 46, 1, 150, 3, 1, 3, 75, 8, 1, 13, 1, 3, 48, 1, 6, 2, 25, 1, 1, 13, 1717, 426, 1, 68, 14, 5, 9, 23, 15, 1, 704, 10, 21071, 4, 1, 4, 366, 393, 2, 15, 1, 3, 23, 1, 2, 1, 98, 2, 5, 41, 42, 797, 1, 3, 2, 41, 1, 2, 20, 146, 37, 2, 2, 48, 23, 1596, 2, 14, 6, 49, 1, 2]}],\n",
              "                        {\"coloraxis\": {\"colorbar\": {\"title\": {\"text\": \"count\"}}, \"colorscale\": [[0.0, \"#0d0887\"], [0.1111111111111111, \"#46039f\"], [0.2222222222222222, \"#7201a8\"], [0.3333333333333333, \"#9c179e\"], [0.4444444444444444, \"#bd3786\"], [0.5555555555555556, \"#d8576b\"], [0.6666666666666666, \"#ed7953\"], [0.7777777777777778, \"#fb9f3a\"], [0.8888888888888888, \"#fdca26\"], [1.0, \"#f0f921\"]]}, \"geo\": {\"center\": {}, \"domain\": {\"x\": [0.0, 1.0], \"y\": [0.0, 1.0]}}, \"legend\": {\"tracegroupgap\": 0}, \"template\": {\"data\": {\"bar\": [{\"error_x\": {\"color\": \"#2a3f5f\"}, \"error_y\": {\"color\": \"#2a3f5f\"}, \"marker\": {\"line\": {\"color\": \"#E5ECF6\", \"width\": 0.5}}, \"type\": \"bar\"}], \"barpolar\": [{\"marker\": {\"line\": {\"color\": \"#E5ECF6\", \"width\": 0.5}}, \"type\": \"barpolar\"}], \"carpet\": [{\"aaxis\": {\"endlinecolor\": \"#2a3f5f\", \"gridcolor\": \"white\", \"linecolor\": \"white\", \"minorgridcolor\": \"white\", \"startlinecolor\": \"#2a3f5f\"}, \"baxis\": {\"endlinecolor\": \"#2a3f5f\", \"gridcolor\": \"white\", \"linecolor\": \"white\", \"minorgridcolor\": \"white\", \"startlinecolor\": \"#2a3f5f\"}, \"type\": \"carpet\"}], \"choropleth\": [{\"colorbar\": {\"outlinewidth\": 0, \"ticks\": \"\"}, \"type\": \"choropleth\"}], \"contour\": [{\"colorbar\": {\"outlinewidth\": 0, \"ticks\": \"\"}, \"colorscale\": [[0.0, \"#0d0887\"], [0.1111111111111111, \"#46039f\"], [0.2222222222222222, \"#7201a8\"], [0.3333333333333333, \"#9c179e\"], [0.4444444444444444, \"#bd3786\"], [0.5555555555555556, \"#d8576b\"], [0.6666666666666666, \"#ed7953\"], [0.7777777777777778, \"#fb9f3a\"], [0.8888888888888888, \"#fdca26\"], [1.0, \"#f0f921\"]], \"type\": \"contour\"}], \"contourcarpet\": [{\"colorbar\": {\"outlinewidth\": 0, \"ticks\": \"\"}, \"type\": \"contourcarpet\"}], \"heatmap\": [{\"colorbar\": {\"outlinewidth\": 0, \"ticks\": \"\"}, \"colorscale\": [[0.0, \"#0d0887\"], [0.1111111111111111, \"#46039f\"], [0.2222222222222222, \"#7201a8\"], [0.3333333333333333, \"#9c179e\"], [0.4444444444444444, \"#bd3786\"], [0.5555555555555556, \"#d8576b\"], [0.6666666666666666, \"#ed7953\"], [0.7777777777777778, \"#fb9f3a\"], [0.8888888888888888, \"#fdca26\"], [1.0, \"#f0f921\"]], \"type\": \"heatmap\"}], \"heatmapgl\": [{\"colorbar\": {\"outlinewidth\": 0, \"ticks\": \"\"}, \"colorscale\": [[0.0, \"#0d0887\"], [0.1111111111111111, \"#46039f\"], [0.2222222222222222, \"#7201a8\"], [0.3333333333333333, \"#9c179e\"], [0.4444444444444444, \"#bd3786\"], [0.5555555555555556, \"#d8576b\"], [0.6666666666666666, \"#ed7953\"], [0.7777777777777778, \"#fb9f3a\"], [0.8888888888888888, \"#fdca26\"], [1.0, \"#f0f921\"]], \"type\": \"heatmapgl\"}], \"histogram\": [{\"marker\": {\"colorbar\": {\"outlinewidth\": 0, \"ticks\": \"\"}}, \"type\": \"histogram\"}], \"histogram2d\": [{\"colorbar\": {\"outlinewidth\": 0, \"ticks\": \"\"}, \"colorscale\": [[0.0, \"#0d0887\"], [0.1111111111111111, \"#46039f\"], [0.2222222222222222, \"#7201a8\"], [0.3333333333333333, \"#9c179e\"], [0.4444444444444444, \"#bd3786\"], [0.5555555555555556, \"#d8576b\"], [0.6666666666666666, \"#ed7953\"], [0.7777777777777778, \"#fb9f3a\"], [0.8888888888888888, \"#fdca26\"], [1.0, \"#f0f921\"]], \"type\": \"histogram2d\"}], \"histogram2dcontour\": [{\"colorbar\": {\"outlinewidth\": 0, \"ticks\": \"\"}, \"colorscale\": [[0.0, \"#0d0887\"], [0.1111111111111111, \"#46039f\"], [0.2222222222222222, \"#7201a8\"], [0.3333333333333333, \"#9c179e\"], [0.4444444444444444, \"#bd3786\"], [0.5555555555555556, \"#d8576b\"], [0.6666666666666666, \"#ed7953\"], [0.7777777777777778, \"#fb9f3a\"], [0.8888888888888888, \"#fdca26\"], [1.0, \"#f0f921\"]], \"type\": \"histogram2dcontour\"}], \"mesh3d\": [{\"colorbar\": {\"outlinewidth\": 0, \"ticks\": \"\"}, \"type\": \"mesh3d\"}], \"parcoords\": [{\"line\": {\"colorbar\": {\"outlinewidth\": 0, \"ticks\": \"\"}}, \"type\": \"parcoords\"}], \"pie\": [{\"automargin\": true, \"type\": \"pie\"}], \"scatter\": [{\"marker\": {\"colorbar\": {\"outlinewidth\": 0, \"ticks\": \"\"}}, \"type\": \"scatter\"}], \"scatter3d\": [{\"line\": {\"colorbar\": {\"outlinewidth\": 0, \"ticks\": \"\"}}, \"marker\": {\"colorbar\": {\"outlinewidth\": 0, \"ticks\": \"\"}}, \"type\": \"scatter3d\"}], \"scattercarpet\": [{\"marker\": {\"colorbar\": {\"outlinewidth\": 0, \"ticks\": \"\"}}, \"type\": \"scattercarpet\"}], \"scattergeo\": [{\"marker\": {\"colorbar\": {\"outlinewidth\": 0, \"ticks\": \"\"}}, \"type\": \"scattergeo\"}], \"scattergl\": [{\"marker\": {\"colorbar\": {\"outlinewidth\": 0, \"ticks\": \"\"}}, \"type\": \"scattergl\"}], \"scattermapbox\": [{\"marker\": {\"colorbar\": {\"outlinewidth\": 0, \"ticks\": \"\"}}, \"type\": \"scattermapbox\"}], \"scatterpolar\": [{\"marker\": {\"colorbar\": {\"outlinewidth\": 0, \"ticks\": \"\"}}, \"type\": \"scatterpolar\"}], \"scatterpolargl\": [{\"marker\": {\"colorbar\": {\"outlinewidth\": 0, \"ticks\": \"\"}}, \"type\": \"scatterpolargl\"}], \"scatterternary\": [{\"marker\": {\"colorbar\": {\"outlinewidth\": 0, \"ticks\": \"\"}}, \"type\": \"scatterternary\"}], \"surface\": [{\"colorbar\": {\"outlinewidth\": 0, \"ticks\": \"\"}, \"colorscale\": [[0.0, \"#0d0887\"], [0.1111111111111111, \"#46039f\"], [0.2222222222222222, \"#7201a8\"], [0.3333333333333333, \"#9c179e\"], [0.4444444444444444, \"#bd3786\"], [0.5555555555555556, \"#d8576b\"], [0.6666666666666666, \"#ed7953\"], [0.7777777777777778, \"#fb9f3a\"], [0.8888888888888888, \"#fdca26\"], [1.0, \"#f0f921\"]], \"type\": \"surface\"}], \"table\": [{\"cells\": {\"fill\": {\"color\": \"#EBF0F8\"}, \"line\": {\"color\": \"white\"}}, \"header\": {\"fill\": {\"color\": \"#C8D4E3\"}, \"line\": {\"color\": \"white\"}}, \"type\": \"table\"}]}, \"layout\": {\"annotationdefaults\": {\"arrowcolor\": \"#2a3f5f\", \"arrowhead\": 0, \"arrowwidth\": 1}, \"coloraxis\": {\"colorbar\": {\"outlinewidth\": 0, \"ticks\": \"\"}}, \"colorscale\": {\"diverging\": [[0, \"#8e0152\"], [0.1, \"#c51b7d\"], [0.2, \"#de77ae\"], [0.3, \"#f1b6da\"], [0.4, \"#fde0ef\"], [0.5, \"#f7f7f7\"], [0.6, \"#e6f5d0\"], [0.7, \"#b8e186\"], [0.8, \"#7fbc41\"], [0.9, \"#4d9221\"], [1, \"#276419\"]], \"sequential\": [[0.0, \"#0d0887\"], [0.1111111111111111, \"#46039f\"], [0.2222222222222222, \"#7201a8\"], [0.3333333333333333, \"#9c179e\"], [0.4444444444444444, \"#bd3786\"], [0.5555555555555556, \"#d8576b\"], [0.6666666666666666, \"#ed7953\"], [0.7777777777777778, \"#fb9f3a\"], [0.8888888888888888, \"#fdca26\"], [1.0, \"#f0f921\"]], \"sequentialminus\": [[0.0, \"#0d0887\"], [0.1111111111111111, \"#46039f\"], [0.2222222222222222, \"#7201a8\"], [0.3333333333333333, \"#9c179e\"], [0.4444444444444444, \"#bd3786\"], [0.5555555555555556, \"#d8576b\"], [0.6666666666666666, \"#ed7953\"], [0.7777777777777778, \"#fb9f3a\"], [0.8888888888888888, \"#fdca26\"], [1.0, \"#f0f921\"]]}, \"colorway\": [\"#636efa\", \"#EF553B\", \"#00cc96\", \"#ab63fa\", \"#FFA15A\", \"#19d3f3\", \"#FF6692\", \"#B6E880\", \"#FF97FF\", \"#FECB52\"], \"font\": {\"color\": \"#2a3f5f\"}, \"geo\": {\"bgcolor\": \"white\", \"lakecolor\": \"white\", \"landcolor\": \"#E5ECF6\", \"showlakes\": true, \"showland\": true, \"subunitcolor\": \"white\"}, \"hoverlabel\": {\"align\": \"left\"}, \"hovermode\": \"closest\", \"mapbox\": {\"style\": \"light\"}, \"paper_bgcolor\": \"white\", \"plot_bgcolor\": \"#E5ECF6\", \"polar\": {\"angularaxis\": {\"gridcolor\": \"white\", \"linecolor\": \"white\", \"ticks\": \"\"}, \"bgcolor\": \"#E5ECF6\", \"radialaxis\": {\"gridcolor\": \"white\", \"linecolor\": \"white\", \"ticks\": \"\"}}, \"scene\": {\"xaxis\": {\"backgroundcolor\": \"#E5ECF6\", \"gridcolor\": \"white\", \"gridwidth\": 2, \"linecolor\": \"white\", \"showbackground\": true, \"ticks\": \"\", \"zerolinecolor\": \"white\"}, \"yaxis\": {\"backgroundcolor\": \"#E5ECF6\", \"gridcolor\": \"white\", \"gridwidth\": 2, \"linecolor\": \"white\", \"showbackground\": true, \"ticks\": \"\", \"zerolinecolor\": \"white\"}, \"zaxis\": {\"backgroundcolor\": \"#E5ECF6\", \"gridcolor\": \"white\", \"gridwidth\": 2, \"linecolor\": \"white\", \"showbackground\": true, \"ticks\": \"\", \"zerolinecolor\": \"white\"}}, \"shapedefaults\": {\"line\": {\"color\": \"#2a3f5f\"}}, \"ternary\": {\"aaxis\": {\"gridcolor\": \"white\", \"linecolor\": \"white\", \"ticks\": \"\"}, \"baxis\": {\"gridcolor\": \"white\", \"linecolor\": \"white\", \"ticks\": \"\"}, \"bgcolor\": \"#E5ECF6\", \"caxis\": {\"gridcolor\": \"white\", \"linecolor\": \"white\", \"ticks\": \"\"}}, \"title\": {\"x\": 0.05}, \"xaxis\": {\"automargin\": true, \"gridcolor\": \"white\", \"linecolor\": \"white\", \"ticks\": \"\", \"title\": {\"standoff\": 15}, \"zerolinecolor\": \"white\", \"zerolinewidth\": 2}, \"yaxis\": {\"automargin\": true, \"gridcolor\": \"white\", \"linecolor\": \"white\", \"ticks\": \"\", \"title\": {\"standoff\": 15}, \"zerolinecolor\": \"white\", \"zerolinewidth\": 2}}}, \"title\": {\"text\": \"Home country of visitors\"}},\n",
              "                        {\"responsive\": true}\n",
              "                    ).then(function(){\n",
              "                            \n",
              "var gd = document.getElementById('b6e41419-fcc8-4362-86b6-577cda052bb0');\n",
              "var x = new MutationObserver(function (mutations, observer) {{\n",
              "        var display = window.getComputedStyle(gd).display;\n",
              "        if (!display || display === 'none') {{\n",
              "            console.log([gd, 'removed!']);\n",
              "            Plotly.purge(gd);\n",
              "            observer.disconnect();\n",
              "        }}\n",
              "}});\n",
              "\n",
              "// Listen for the removal of the full notebook cells\n",
              "var notebookContainer = gd.closest('#notebook-container');\n",
              "if (notebookContainer) {{\n",
              "    x.observe(notebookContainer, {childList: true});\n",
              "}}\n",
              "\n",
              "// Listen for the clearing of the current output cell\n",
              "var outputEl = gd.closest('.output');\n",
              "if (outputEl) {{\n",
              "    x.observe(outputEl, {childList: true});\n",
              "}}\n",
              "\n",
              "                        })\n",
              "                };\n",
              "                \n",
              "            </script>\n",
              "        </div>\n",
              "</body>\n",
              "</html>"
            ]
          },
          "metadata": {},
          "output_type": "display_data"
        }
      ]
    },
    {
      "cell_type": "markdown",
      "metadata": {
        "id": "m8Qt90QoU6yD"
      },
      "source": [
        "## What do we see?\n",
        "- We have a huge number of visitors from western europe, namely France,UK and Portugal being the highest.\n",
        "- very few visitors from asian and african regions\n",
        "- We can instruct the marketing team to target people according to regions "
      ]
    }
  ]
}